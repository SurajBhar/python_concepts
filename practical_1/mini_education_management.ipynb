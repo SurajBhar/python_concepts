{
 "cells": [
  {
   "cell_type": "markdown",
   "metadata": {},
   "source": [
    "# Mini Education Management System\n",
    "- A Demonstration of real world education managemnet system using python. \n",
    "- (Variables, Data Types, Operators, Sets, Dictionaries, Functions, Loops)"
   ]
  },
  {
   "cell_type": "markdown",
   "metadata": {},
   "source": [
    "## How the Program Works:\n",
    "- Students are added to the system using the `add_student()` function.\n",
    "- Grades are assigned using the `assign_grade()` function.\n",
    "- Attendance is marked by the `mark_attendance()` function, which updates the attendance set.\n",
    "- Basic arithmetic and comparisons are performed to demonstrate how operators work.\n",
    "- The program calculates the average grade of all students and displays their attendance status.\n",
    "\n",
    "## Practical Use in Real Software Industries:\n",
    "In real-world software systems (e.g., education management systems), similar structures could be used to manage students, grades, attendance, and other data. The use of lists, dictionaries, and sets helps organize data efficiently, while loops and functions allow the system to perform repetitive tasks with minimal code duplication.\n"
   ]
  },
  {
   "cell_type": "code",
   "execution_count": 16,
   "metadata": {},
   "outputs": [],
   "source": [
    "# 1. Variables and Data Types\n",
    "students = []  # List to store student information\n",
    "grades = {}    # Dictionary to store student grades\n",
    "attendance = set()  # Set to store student IDs that have attended"
   ]
  },
  {
   "cell_type": "code",
   "execution_count": 17,
   "metadata": {},
   "outputs": [],
   "source": [
    "# 2. Functions (Creating reusable functions)\n",
    "\n",
    "def add_student(student_name, student_id):\n",
    "    \"\"\"\n",
    "    Adds a student to the system. Takes student name and ID as input.\n",
    "    \"\"\"\n",
    "    student = {\"name\": student_name, \"id\": student_id, \"attended\": False}\n",
    "    students.append(student)\n",
    "    print(f\"Student {student_name} added successfully.\")\n",
    "\n",
    "def remove_student(student_id):\n",
    "    \"\"\"\n",
    "    Removes a student from the system by their ID.\n",
    "    \"\"\"\n",
    "    global students\n",
    "    students = [student for student in students if student[\"id\"] != student_id]\n",
    "    print(f\"Student with ID {student_id} removed.\")\n",
    "\n",
    "def mark_attendance(student_id):\n",
    "    \"\"\"\n",
    "    Marks a student's attendance by their ID.\n",
    "    \"\"\"\n",
    "    for student in students:\n",
    "        if student[\"id\"] == student_id:\n",
    "            student[\"attended\"] = True\n",
    "            attendance.add(student_id)\n",
    "            print(f\"Attendance marked for {student['name']}.\")\n",
    "            break\n",
    "\n",
    "def assign_grade(student_id, grade):\n",
    "    \"\"\"\n",
    "    Assigns a grade to a student by their ID.\n",
    "    \"\"\"\n",
    "    grades[student_id] = grade\n",
    "    print(f\"Grade {grade} assigned to student ID {student_id}.\")\n",
    "\n",
    "def calculate_average_grade():\n",
    "    \"\"\"\n",
    "    Calculates the average grade for all students.\n",
    "    \"\"\"\n",
    "    if grades:\n",
    "        avg_grade = sum(grades.values()) / len(grades)\n",
    "        print(f\"The average grade for all students is: {avg_grade:.2f}\")\n",
    "    else:\n",
    "        print(\"No grades available.\")\n",
    "\n",
    "def show_attendance():\n",
    "    \"\"\"\n",
    "    Shows the attendance status of all students.\n",
    "    \"\"\"\n",
    "    for student in students:\n",
    "        status = \"Present\" if student[\"id\"] in attendance else \"Absent\"\n",
    "        print(f\"Student {student['name']} ({student['id']}): {status}\")"
   ]
  },
  {
   "cell_type": "code",
   "execution_count": 18,
   "metadata": {},
   "outputs": [],
   "source": [
    "# 3. Operators (Arithmetic, Comparison, Logical)\n",
    "\n",
    "def perform_arithmetic_operations(x, y):\n",
    "    \"\"\"\n",
    "    Performs basic arithmetic operations on two numbers and displays the results.\n",
    "    \"\"\"\n",
    "    print(f\"{x} + {y} = {x + y}\")\n",
    "    print(f\"{x} - {y} = {x - y}\")\n",
    "    print(f\"{x} * {y} = {x * y}\")\n",
    "    print(f\"{x} / {y} = {x / y if y != 0 else 'Division by zero error'}\")\n",
    "\n",
    "def compare_numbers(x, y):\n",
    "    \"\"\"\n",
    "    Compares two numbers and prints the result.\n",
    "    \"\"\"\n",
    "    if x == y:\n",
    "        print(f\"{x} is equal to {y}\")\n",
    "    elif x > y:\n",
    "        print(f\"{x} is greater than {y}\")\n",
    "    else:\n",
    "        print(f\"{x} is less than {y}\")"
   ]
  },
  {
   "cell_type": "code",
   "execution_count": 19,
   "metadata": {},
   "outputs": [],
   "source": [
    "# 4. Loops (for and while loops)\n",
    "\n",
    "def display_students():\n",
    "    \"\"\"\n",
    "    Displays all the students in the system.\n",
    "    \"\"\"\n",
    "    print(\"List of Students:\")\n",
    "    for student in students:\n",
    "        print(f\"{student['name']} (ID: {student['id']})\")\n",
    "\n",
    "def process_student_grades():\n",
    "    \"\"\"\n",
    "    Processes and assigns random grades to students.\n",
    "    \"\"\"\n",
    "    import random\n",
    "    for student in students:\n",
    "        grade = random.randint(60, 100)  # Random grade between 60 and 100\n",
    "        assign_grade(student[\"id\"], grade)"
   ]
  },
  {
   "cell_type": "code",
   "execution_count": 20,
   "metadata": {},
   "outputs": [],
   "source": [
    "# 5. Basic Set Operations (Attendance tracking)\n",
    "\n",
    "def check_attendance(student_id):\n",
    "    \"\"\"\n",
    "    Checks if a student attended based on their ID.\n",
    "    \"\"\"\n",
    "    if student_id in attendance:\n",
    "        print(f\"Student with ID {student_id} was present.\")\n",
    "    else:\n",
    "        print(f\"Student with ID {student_id} was absent.\")"
   ]
  },
  {
   "cell_type": "code",
   "execution_count": 21,
   "metadata": {},
   "outputs": [
    {
     "name": "stdout",
     "output_type": "stream",
     "text": [
      "Student Suraj Bhardwaj added successfully.\n",
      "Student Ankush Bhardwaj added successfully.\n",
      "Student Vijay Kumar added successfully.\n",
      "Student Sujata Kumari added successfully.\n",
      "Grade 85 assigned to student ID 101.\n",
      "Grade 92 assigned to student ID 102.\n",
      "Grade 78 assigned to student ID 103.\n",
      "Grade 80 assigned to student ID 104.\n",
      "Attendance marked for Suraj Bhardwaj.\n",
      "Attendance marked for Vijay Kumar.\n",
      "10 + 5 = 15\n",
      "10 - 5 = 5\n",
      "10 * 5 = 50\n",
      "10 / 5 = 2.0\n",
      "15 is less than 20\n",
      "Student Suraj Bhardwaj (101): Present\n",
      "Student Ankush Bhardwaj (102): Absent\n",
      "Student Vijay Kumar (103): Present\n",
      "Student Sujata Kumari (104): Absent\n",
      "List of Students:\n",
      "Suraj Bhardwaj (ID: 101)\n",
      "Ankush Bhardwaj (ID: 102)\n",
      "Vijay Kumar (ID: 103)\n",
      "Sujata Kumari (ID: 104)\n",
      "The average grade for all students is: 83.75\n",
      "Student with ID 102 was absent.\n",
      "Grade 95 assigned to student ID 101.\n",
      "Grade 79 assigned to student ID 102.\n",
      "Grade 82 assigned to student ID 103.\n",
      "Grade 77 assigned to student ID 104.\n",
      "\n",
      "Updated Student Grades:\n",
      "Student ID 101: Grade 95\n",
      "Student ID 102: Grade 79\n",
      "Student ID 103: Grade 82\n",
      "Student ID 104: Grade 77\n"
     ]
    }
   ],
   "source": [
    "# 6. Running the System: Main Program Flow\n",
    "\n",
    "# Add some students\n",
    "add_student(\"Suraj Bhardwaj\", 101)\n",
    "add_student(\"Ankush Bhardwaj\", 102)\n",
    "add_student(\"Vijay Kumar\", 103)\n",
    "add_student(\"Sujata Kumari\", 104)\n",
    "\n",
    "# Assign grades to students\n",
    "assign_grade(101, 85)\n",
    "assign_grade(102, 92)\n",
    "assign_grade(103, 78)\n",
    "assign_grade(104, 80)\n",
    "\n",
    "# Mark attendance for some students\n",
    "mark_attendance(101)\n",
    "mark_attendance(103)\n",
    "\n",
    "# Perform arithmetic operations\n",
    "perform_arithmetic_operations(10, 5)\n",
    "\n",
    "# Compare two numbers\n",
    "compare_numbers(15, 20)\n",
    "\n",
    "# Show attendance\n",
    "show_attendance()\n",
    "\n",
    "# Display all students\n",
    "display_students()\n",
    "\n",
    "# Calculate the average grade\n",
    "calculate_average_grade()\n",
    "\n",
    "# Check if a specific student was present\n",
    "check_attendance(102)\n",
    "\n",
    "# Process student grades (simulate random grades for demonstration)\n",
    "process_student_grades()\n",
    "\n",
    "# Show updated student grades\n",
    "print(\"\\nUpdated Student Grades:\")\n",
    "for student_id, grade in grades.items():\n",
    "    print(f\"Student ID {student_id}: Grade {grade}\")"
   ]
  },
  {
   "cell_type": "code",
   "execution_count": 22,
   "metadata": {},
   "outputs": [
    {
     "name": "stdout",
     "output_type": "stream",
     "text": [
      "\n",
      "We have learned about variables, data types, operators, sets, dictionaries, functions, loops, and more!\n"
     ]
    }
   ],
   "source": [
    "# 7. Conclusion\n",
    "print(\"\\nWe have learned about variables, data types, operators, sets, dictionaries, functions, loops, and more!\")\n"
   ]
  },
  {
   "cell_type": "code",
   "execution_count": 15,
   "metadata": {},
   "outputs": [
    {
     "name": "stdout",
     "output_type": "stream",
     "text": [
      "Student with ID 101 removed.\n",
      "Student with ID 102 removed.\n",
      "Student with ID 103 removed.\n",
      "Student with ID 104 removed.\n",
      "List of Students:\n"
     ]
    }
   ],
   "source": [
    "# Removing all three students by their IDs\n",
    "remove_student(101)  # Remove student with ID 101 \n",
    "remove_student(102)  # Remove student with ID 102 \n",
    "remove_student(103)  # Remove student with ID 103 \n",
    "remove_student(104)  # Remove student with ID 104 \n",
    "\n",
    "# Optionally, display the remaining students\n",
    "display_students()"
   ]
  },
  {
   "cell_type": "code",
   "execution_count": null,
   "metadata": {},
   "outputs": [],
   "source": []
  }
 ],
 "metadata": {
  "kernelspec": {
   "display_name": "deepl",
   "language": "python",
   "name": "python3"
  },
  "language_info": {
   "codemirror_mode": {
    "name": "ipython",
    "version": 3
   },
   "file_extension": ".py",
   "mimetype": "text/x-python",
   "name": "python",
   "nbconvert_exporter": "python",
   "pygments_lexer": "ipython3",
   "version": "3.13.0"
  }
 },
 "nbformat": 4,
 "nbformat_minor": 2
}
