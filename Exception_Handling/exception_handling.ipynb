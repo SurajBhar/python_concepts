{
 "cells": [
  {
   "cell_type": "markdown",
   "metadata": {},
   "source": [
    "# Exception Handling\n",
    "- Error Handling\n",
    "- Take necessary actions wrt the execution of the program\n",
    "- Ex: zero division error\n",
    "- File not found error\n",
    "- Value error\n",
    "- Type error"
   ]
  },
  {
   "cell_type": "markdown",
   "metadata": {},
   "source": [
    "# Name Error is also one kind of exception"
   ]
  },
  {
   "cell_type": "code",
   "execution_count": 1,
   "metadata": {},
   "outputs": [
    {
     "ename": "NameError",
     "evalue": "name 'b' is not defined",
     "output_type": "error",
     "traceback": [
      "\u001b[0;31m---------------------------------------------------------------------------\u001b[0m",
      "\u001b[0;31mNameError\u001b[0m                                 Traceback (most recent call last)",
      "Cell \u001b[0;32mIn[1], line 1\u001b[0m\n\u001b[0;32m----> 1\u001b[0m a \u001b[38;5;241m=\u001b[39m \u001b[43mb\u001b[49m\n",
      "\u001b[0;31mNameError\u001b[0m: name 'b' is not defined"
     ]
    }
   ],
   "source": [
    "a = b"
   ]
  },
  {
   "cell_type": "markdown",
   "metadata": {},
   "source": [
    "# How to handle this error\n",
    "- Using try and except block. try block will try to run an expression or syntax and except block will catch exception if any and will print the custom message written in exception block."
   ]
  },
  {
   "cell_type": "code",
   "execution_count": 3,
   "metadata": {},
   "outputs": [
    {
     "name": "stdout",
     "output_type": "stream",
     "text": [
      "The variable has not been assigned\n"
     ]
    }
   ],
   "source": [
    "# try-except block\n",
    "try:\n",
    "    a = b\n",
    "except:\n",
    "    print(\"The variable has not been assigned\")"
   ]
  },
  {
   "cell_type": "markdown",
   "metadata": {},
   "source": [
    "# We can also use same exception class for error handling"
   ]
  },
  {
   "cell_type": "code",
   "execution_count": 4,
   "metadata": {},
   "outputs": [
    {
     "name": "stdout",
     "output_type": "stream",
     "text": [
      "name 'b' is not defined\n"
     ]
    }
   ],
   "source": [
    "# try-except block\n",
    "try:\n",
    "    a = b\n",
    "except NameError as ex:\n",
    "    print(ex)"
   ]
  },
  {
   "cell_type": "markdown",
   "metadata": {},
   "source": [
    "# Division by Zero"
   ]
  },
  {
   "cell_type": "code",
   "execution_count": 8,
   "metadata": {},
   "outputs": [
    {
     "name": "stdout",
     "output_type": "stream",
     "text": [
      "division by zero \n",
      "Please enter a number greater than zero\n"
     ]
    }
   ],
   "source": [
    "try:\n",
    "    result = 1/0\n",
    "except ZeroDivisionError as ex:\n",
    "    print(ex, \"\\nPlease enter a number greater than zero\")\n"
   ]
  },
  {
   "cell_type": "markdown",
   "metadata": {},
   "source": [
    "# Exception handling mismatch\n",
    "- What if we are use a different exception class for exception handling"
   ]
  },
  {
   "cell_type": "code",
   "execution_count": 9,
   "metadata": {},
   "outputs": [
    {
     "ename": "NameError",
     "evalue": "name 'b' is not defined",
     "output_type": "error",
     "traceback": [
      "\u001b[0;31m---------------------------------------------------------------------------\u001b[0m",
      "\u001b[0;31mNameError\u001b[0m                                 Traceback (most recent call last)",
      "Cell \u001b[0;32mIn[9], line 3\u001b[0m\n\u001b[1;32m      1\u001b[0m \u001b[38;5;28;01mtry\u001b[39;00m:\n\u001b[1;32m      2\u001b[0m     result \u001b[38;5;241m=\u001b[39m \u001b[38;5;241m1\u001b[39m\u001b[38;5;241m/\u001b[39m\u001b[38;5;241m2\u001b[39m\n\u001b[0;32m----> 3\u001b[0m     a \u001b[38;5;241m=\u001b[39m \u001b[43mb\u001b[49m\n\u001b[1;32m      4\u001b[0m \u001b[38;5;28;01mexcept\u001b[39;00m \u001b[38;5;167;01mZeroDivisionError\u001b[39;00m \u001b[38;5;28;01mas\u001b[39;00m ex:\n\u001b[1;32m      5\u001b[0m     \u001b[38;5;28mprint\u001b[39m(ex, \u001b[38;5;124m\"\u001b[39m\u001b[38;5;130;01m\\n\u001b[39;00m\u001b[38;5;124mPlease enter a number greater than zero\u001b[39m\u001b[38;5;124m\"\u001b[39m)\n",
      "\u001b[0;31mNameError\u001b[0m: name 'b' is not defined"
     ]
    }
   ],
   "source": [
    "try:\n",
    "    result = 1/2\n",
    "    a = b\n",
    "except ZeroDivisionError as ex:\n",
    "    print(ex, \"\\nPlease enter a number greater than zero\")"
   ]
  },
  {
   "cell_type": "markdown",
   "metadata": {},
   "source": [
    "# We are getting the NameError\n",
    "- which means ZeroDivisionError exception handling class is not going to handle NameError exception.\n",
    "- Solution: We can use the parent Exception class which will handle all the exception types.\n",
    "- Where to put it: At the end of all the exceptions."
   ]
  },
  {
   "cell_type": "code",
   "execution_count": 10,
   "metadata": {},
   "outputs": [
    {
     "name": "stdout",
     "output_type": "stream",
     "text": [
      "name 'b' is not defined \n",
      " Main exception got caught\n"
     ]
    }
   ],
   "source": [
    "try:\n",
    "    result = 1/2\n",
    "    a = b\n",
    "except ZeroDivisionError as ex:\n",
    "    print(ex, \"\\nPlease enter a number greater than zero\")\n",
    "except Exception as ex1:\n",
    "    print(ex1, '\\n Main exception got caught')"
   ]
  },
  {
   "cell_type": "code",
   "execution_count": 14,
   "metadata": {},
   "outputs": [
    {
     "name": "stdout",
     "output_type": "stream",
     "text": [
      "division by zero \n",
      "Denomenator should not be zero\n"
     ]
    }
   ],
   "source": [
    "try:\n",
    "    num = int(input(\"Enter a number\"))\n",
    "    result = 10/num\n",
    "except ValueError:\n",
    "    print(\"Enter a valid Number\")\n",
    "except ZeroDivisionError as ex1:\n",
    "    print(ex1,\"\\nDenomenator should not be zero\")\n",
    "except Exception as ex2:\n",
    "    print(ex2)"
   ]
  },
  {
   "cell_type": "markdown",
   "metadata": {},
   "source": [
    "# try - except - else Block"
   ]
  },
  {
   "cell_type": "code",
   "execution_count": 15,
   "metadata": {},
   "outputs": [
    {
     "name": "stdout",
     "output_type": "stream",
     "text": [
      "0.43478260869565216\n"
     ]
    }
   ],
   "source": [
    "# Some lines of code needs to be executed successfully anyhow!\n",
    "try:\n",
    "    num = int(input(\"Enter a number\"))\n",
    "    result = 10/num\n",
    "except ValueError:\n",
    "    print(\"Enter a valid Number\")\n",
    "except ZeroDivisionError as ex1:\n",
    "    print(ex1,\"\\nDenomenator should not be zero\")\n",
    "except Exception as ex2:\n",
    "    print(ex2)\n",
    "else:\n",
    "    print(result)"
   ]
  },
  {
   "cell_type": "markdown",
   "metadata": {},
   "source": [
    "# try, except, else and finally block"
   ]
  },
  {
   "cell_type": "code",
   "execution_count": 16,
   "metadata": {},
   "outputs": [
    {
     "name": "stdout",
     "output_type": "stream",
     "text": [
      "1.0\n",
      "Execution Complete\n"
     ]
    }
   ],
   "source": [
    "# Some lines of code needs to be executed successfully anyhow!\n",
    "try:\n",
    "    num = int(input(\"Enter a number\"))\n",
    "    result = 10/num\n",
    "except ValueError:\n",
    "    print(\"Enter a valid Number\")\n",
    "except ZeroDivisionError as ex1:\n",
    "    print(ex1,\"\\nDenomenator should not be zero\")\n",
    "except Exception as ex2:\n",
    "    print(ex2)\n",
    "else:\n",
    "    print(result)\n",
    "finally:\n",
    "    print(\"Execution Complete\") # This has to be executed anyhow"
   ]
  },
  {
   "cell_type": "markdown",
   "metadata": {},
   "source": [
    "# Even if there is any error say Zero division error"
   ]
  },
  {
   "cell_type": "code",
   "execution_count": 17,
   "metadata": {},
   "outputs": [
    {
     "name": "stdout",
     "output_type": "stream",
     "text": [
      "division by zero \n",
      "Denomenator should not be zero\n",
      "Execution Complete\n"
     ]
    }
   ],
   "source": [
    "# Some lines of code needs to be executed successfully anyhow!\n",
    "try:\n",
    "    num = int(input(\"Enter a number\"))\n",
    "    result = 10/num\n",
    "except ValueError:\n",
    "    print(\"Enter a valid Number\")\n",
    "except ZeroDivisionError as ex1:\n",
    "    print(ex1,\"\\nDenomenator should not be zero\")\n",
    "except Exception as ex2:\n",
    "    print(ex2)\n",
    "else:\n",
    "    print(result)\n",
    "finally:\n",
    "    print(\"Execution Complete\") # This has to be executed anyhow"
   ]
  },
  {
   "cell_type": "markdown",
   "metadata": {},
   "source": [
    "# File Handling and Exception Handling"
   ]
  },
  {
   "cell_type": "code",
   "execution_count": 19,
   "metadata": {},
   "outputs": [
    {
     "name": "stdout",
     "output_type": "stream",
     "text": [
      "[Errno 2] No such file or directory: 'example1.txt' \n",
      "The file doesn't exist\n"
     ]
    }
   ],
   "source": [
    "# Try to open a non existing file and handle exception\n",
    "try:\n",
    "    file=open(\"example1.txt\", \"r\")\n",
    "    content = file.read()\n",
    "    print(content)\n",
    "except FileNotFoundError as ex:\n",
    "    print(ex,\"\\nThe file doesn't exist\")\n",
    "finally:\n",
    "    if \"file\" in locals() and not file.closed:\n",
    "        file.close()\n",
    "        print(\"File closed\")"
   ]
  },
  {
   "cell_type": "code",
   "execution_count": 22,
   "metadata": {},
   "outputs": [
    {
     "name": "stdout",
     "output_type": "stream",
     "text": [
      "name 'b' is not defined \n",
      "There is an exception.\n",
      "File closed\n"
     ]
    }
   ],
   "source": [
    "# Try to open an existing file and handle exceptions\n",
    "try:\n",
    "    file = open(\"empty1.txt\", \"r\")\n",
    "    content = file.read()\n",
    "    a = b  # This will raise an exception because 'b' is not defined\n",
    "    print(content)\n",
    "except FileNotFoundError as ex:\n",
    "    print(ex, \"\\nThe file doesn't exist\")\n",
    "except Exception as ex1:\n",
    "    print(ex1, \"\\nThere is an exception.\")\n",
    "finally:\n",
    "    if \"file\" in locals() and not file.closed:  # no parentheses on file.closed\n",
    "        file.close()\n",
    "        print(\"File closed\")\n"
   ]
  },
  {
   "cell_type": "code",
   "execution_count": null,
   "metadata": {},
   "outputs": [],
   "source": []
  }
 ],
 "metadata": {
  "kernelspec": {
   "display_name": "deepl",
   "language": "python",
   "name": "python3"
  },
  "language_info": {
   "codemirror_mode": {
    "name": "ipython",
    "version": 3
   },
   "file_extension": ".py",
   "mimetype": "text/x-python",
   "name": "python",
   "nbconvert_exporter": "python",
   "pygments_lexer": "ipython3",
   "version": "3.13.0"
  }
 },
 "nbformat": 4,
 "nbformat_minor": 2
}
