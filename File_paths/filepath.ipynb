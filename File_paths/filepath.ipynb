{
 "cells": [
  {
   "cell_type": "code",
   "execution_count": 1,
   "metadata": {},
   "outputs": [
    {
     "name": "stdout",
     "output_type": "stream",
     "text": [
      "/Users/surajbhardwaj/Desktop/Coding/File_paths\n"
     ]
    }
   ],
   "source": [
    "import os\n",
    "cwd = os.getcwd()\n",
    "print(cwd)"
   ]
  },
  {
   "cell_type": "code",
   "execution_count": 2,
   "metadata": {},
   "outputs": [
    {
     "name": "stdout",
     "output_type": "stream",
     "text": [
      "Created an empty_dir directory.\n"
     ]
    }
   ],
   "source": [
    "## Create a new directory\n",
    "new_directory = \"empty_dir\"\n",
    "os.mkdir(new_directory)\n",
    "print(f\"Created an {new_directory} directory.\")"
   ]
  },
  {
   "cell_type": "code",
   "execution_count": 3,
   "metadata": {},
   "outputs": [
    {
     "name": "stdout",
     "output_type": "stream",
     "text": [
      "['empty_dir', 'filepath.ipynb']\n"
     ]
    }
   ],
   "source": [
    "# Listing files and directories\n",
    "items = os.listdir('.')\n",
    "print(items)"
   ]
  },
  {
   "cell_type": "code",
   "execution_count": 5,
   "metadata": {},
   "outputs": [
    {
     "name": "stdout",
     "output_type": "stream",
     "text": [
      "folder_dummy/file.txt\n"
     ]
    }
   ],
   "source": [
    "# Joining paths\n",
    "dir_name = \"folder_dummy\"\n",
    "file_name = \"file.txt\"\n",
    "full_path = os.path.join(dir_name,file_name)\n",
    "print(full_path)"
   ]
  },
  {
   "cell_type": "code",
   "execution_count": 6,
   "metadata": {},
   "outputs": [
    {
     "name": "stdout",
     "output_type": "stream",
     "text": [
      "/Users/surajbhardwaj/Desktop/Coding/File_paths/folder_dummy/file.txt\n"
     ]
    }
   ],
   "source": [
    "# Create the full path\n",
    "dir_name = \"folder_dummy\"\n",
    "file_name = \"file.txt\"\n",
    "full_path = os.path.join(os.getcwd(),dir_name,file_name)\n",
    "print(full_path)"
   ]
  },
  {
   "cell_type": "code",
   "execution_count": 7,
   "metadata": {},
   "outputs": [
    {
     "name": "stdout",
     "output_type": "stream",
     "text": [
      "The path /Users/surajbhardwaj/Desktop/Coding/File_paths/folder_dummy/file.txt doesn't exists.\n"
     ]
    }
   ],
   "source": [
    "if os.path.exists(full_path):\n",
    "    print(f\"The path {full_path} exists.\")\n",
    "else:\n",
    "    print(f\"The path {full_path} doesn't exists.\")"
   ]
  },
  {
   "cell_type": "code",
   "execution_count": 8,
   "metadata": {},
   "outputs": [
    {
     "name": "stdout",
     "output_type": "stream",
     "text": [
      "The /Users/surajbhardwaj/Desktop/Coding/File_paths/folder_dummy/file.txt is neither a file nor a directory.\n"
     ]
    }
   ],
   "source": [
    "# Checking if the path is a file or directory\n",
    "import os\n",
    "if os.path.isdir(full_path):\n",
    "    print(f\"The {full_path} is a directory.\")\n",
    "\n",
    "elif os.path.isfile(full_path):\n",
    "    print(f\"The {full_path} is a file.\")\n",
    "\n",
    "else:\n",
    "    print(f\"The {full_path} is neither a file nor a directory.\")"
   ]
  },
  {
   "cell_type": "code",
   "execution_count": 13,
   "metadata": {},
   "outputs": [
    {
     "name": "stdout",
     "output_type": "stream",
     "text": [
      "The file_new.txt is a file.\n"
     ]
    }
   ],
   "source": [
    "file_name = \"file_new.txt\"\n",
    "import os\n",
    "if os.path.isdir(file_name):\n",
    "    print(f\"The {file_name} is a directory.\")\n",
    "\n",
    "elif os.path.isfile(file_name):\n",
    "    print(f\"The {file_name} is a file.\")\n",
    "\n",
    "else:\n",
    "    print(f\"The {file_name} is neither a file nor a directory.\")"
   ]
  },
  {
   "cell_type": "code",
   "execution_count": 14,
   "metadata": {},
   "outputs": [
    {
     "name": "stdout",
     "output_type": "stream",
     "text": [
      "/Users/surajbhardwaj/Desktop/Coding/File_paths/file_new.txt\n"
     ]
    }
   ],
   "source": [
    "# Getting the absolute path\n",
    "relative_path = \"file_new.txt\"\n",
    "rel_path = os.path.abspath(relative_path)\n",
    "print(rel_path)"
   ]
  },
  {
   "cell_type": "code",
   "execution_count": null,
   "metadata": {},
   "outputs": [],
   "source": []
  },
  {
   "cell_type": "code",
   "execution_count": null,
   "metadata": {},
   "outputs": [],
   "source": []
  }
 ],
 "metadata": {
  "kernelspec": {
   "display_name": "deepl",
   "language": "python",
   "name": "python3"
  },
  "language_info": {
   "codemirror_mode": {
    "name": "ipython",
    "version": 3
   },
   "file_extension": ".py",
   "mimetype": "text/x-python",
   "name": "python",
   "nbconvert_exporter": "python",
   "pygments_lexer": "ipython3",
   "version": "3.13.0"
  }
 },
 "nbformat": 4,
 "nbformat_minor": 2
}
